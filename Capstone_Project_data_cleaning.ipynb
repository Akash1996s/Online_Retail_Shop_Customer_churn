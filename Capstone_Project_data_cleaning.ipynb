{
 "cells": [
  {
   "cell_type": "code",
   "execution_count": 1,
   "metadata": {},
   "outputs": [],
   "source": [
    "import pandas as pd\n",
    "import numpy as np\n",
    "import seaborn as sns\n",
    "import matplotlib.pyplot as plt\n",
    "import scipy.stats as s\n",
    "import statsmodels.api as sm\n",
    "import statsmodels.formula.api as smf"
   ]
  },
  {
   "cell_type": "code",
   "execution_count": 2,
   "metadata": {
    "scrolled": true
   },
   "outputs": [
    {
     "data": {
      "text/html": [
       "<div>\n",
       "<style scoped>\n",
       "    .dataframe tbody tr th:only-of-type {\n",
       "        vertical-align: middle;\n",
       "    }\n",
       "\n",
       "    .dataframe tbody tr th {\n",
       "        vertical-align: top;\n",
       "    }\n",
       "\n",
       "    .dataframe thead th {\n",
       "        text-align: right;\n",
       "    }\n",
       "</style>\n",
       "<table border=\"1\" class=\"dataframe\">\n",
       "  <thead>\n",
       "    <tr style=\"text-align: right;\">\n",
       "      <th></th>\n",
       "      <th>custid</th>\n",
       "      <th>retained</th>\n",
       "      <th>created</th>\n",
       "      <th>firstorder</th>\n",
       "      <th>lastorder</th>\n",
       "      <th>esent</th>\n",
       "      <th>eopenrate</th>\n",
       "      <th>eclickrate</th>\n",
       "      <th>avgorder</th>\n",
       "      <th>ordfreq</th>\n",
       "      <th>paperless</th>\n",
       "      <th>refill</th>\n",
       "      <th>doorstep</th>\n",
       "      <th>favday</th>\n",
       "      <th>city</th>\n",
       "    </tr>\n",
       "  </thead>\n",
       "  <tbody>\n",
       "    <tr>\n",
       "      <th>0</th>\n",
       "      <td>6H6T6N</td>\n",
       "      <td>0</td>\n",
       "      <td>2012-09-28</td>\n",
       "      <td>2013-08-11 00:00:00</td>\n",
       "      <td>2013-08-11 00:00:00</td>\n",
       "      <td>29</td>\n",
       "      <td>100.000000</td>\n",
       "      <td>3.448276</td>\n",
       "      <td>14.52</td>\n",
       "      <td>0.000000</td>\n",
       "      <td>0</td>\n",
       "      <td>0</td>\n",
       "      <td>0</td>\n",
       "      <td>Monday</td>\n",
       "      <td>DEL</td>\n",
       "    </tr>\n",
       "    <tr>\n",
       "      <th>1</th>\n",
       "      <td>APCENR</td>\n",
       "      <td>1</td>\n",
       "      <td>2010-12-19</td>\n",
       "      <td>2011-04-01 00:00:00</td>\n",
       "      <td>2014-01-19 00:00:00</td>\n",
       "      <td>95</td>\n",
       "      <td>92.631579</td>\n",
       "      <td>10.526316</td>\n",
       "      <td>83.69</td>\n",
       "      <td>0.181641</td>\n",
       "      <td>1</td>\n",
       "      <td>1</td>\n",
       "      <td>1</td>\n",
       "      <td>Friday</td>\n",
       "      <td>DEL</td>\n",
       "    </tr>\n",
       "    <tr>\n",
       "      <th>2</th>\n",
       "      <td>7UP6MS</td>\n",
       "      <td>0</td>\n",
       "      <td>2010-10-03</td>\n",
       "      <td>2010-12-01 00:00:00</td>\n",
       "      <td>2011-07-06 00:00:00</td>\n",
       "      <td>0</td>\n",
       "      <td>0.000000</td>\n",
       "      <td>0.000000</td>\n",
       "      <td>33.58</td>\n",
       "      <td>0.059908</td>\n",
       "      <td>0</td>\n",
       "      <td>0</td>\n",
       "      <td>0</td>\n",
       "      <td>Wednesday</td>\n",
       "      <td>DEL</td>\n",
       "    </tr>\n",
       "    <tr>\n",
       "      <th>3</th>\n",
       "      <td>7ZEW8G</td>\n",
       "      <td>0</td>\n",
       "      <td>2010-10-22</td>\n",
       "      <td>2011-03-28 00:00:00</td>\n",
       "      <td>2011-03-28 00:00:00</td>\n",
       "      <td>0</td>\n",
       "      <td>0.000000</td>\n",
       "      <td>0.000000</td>\n",
       "      <td>54.96</td>\n",
       "      <td>0.000000</td>\n",
       "      <td>0</td>\n",
       "      <td>0</td>\n",
       "      <td>0</td>\n",
       "      <td>Thursday</td>\n",
       "      <td>BOM</td>\n",
       "    </tr>\n",
       "    <tr>\n",
       "      <th>4</th>\n",
       "      <td>8V726M</td>\n",
       "      <td>1</td>\n",
       "      <td>2010-11-27</td>\n",
       "      <td>2010-11-29 00:00:00</td>\n",
       "      <td>2013-01-28 00:00:00</td>\n",
       "      <td>30</td>\n",
       "      <td>90.000000</td>\n",
       "      <td>13.333333</td>\n",
       "      <td>111.91</td>\n",
       "      <td>0.008850</td>\n",
       "      <td>0</td>\n",
       "      <td>0</td>\n",
       "      <td>0</td>\n",
       "      <td>Monday</td>\n",
       "      <td>BOM</td>\n",
       "    </tr>\n",
       "  </tbody>\n",
       "</table>\n",
       "</div>"
      ],
      "text/plain": [
       "   custid  retained    created           firstorder            lastorder  \\\n",
       "0  6H6T6N         0 2012-09-28  2013-08-11 00:00:00  2013-08-11 00:00:00   \n",
       "1  APCENR         1 2010-12-19  2011-04-01 00:00:00  2014-01-19 00:00:00   \n",
       "2  7UP6MS         0 2010-10-03  2010-12-01 00:00:00  2011-07-06 00:00:00   \n",
       "3  7ZEW8G         0 2010-10-22  2011-03-28 00:00:00  2011-03-28 00:00:00   \n",
       "4  8V726M         1 2010-11-27  2010-11-29 00:00:00  2013-01-28 00:00:00   \n",
       "\n",
       "   esent   eopenrate  eclickrate  avgorder   ordfreq  paperless  refill  \\\n",
       "0     29  100.000000    3.448276     14.52  0.000000          0       0   \n",
       "1     95   92.631579   10.526316     83.69  0.181641          1       1   \n",
       "2      0    0.000000    0.000000     33.58  0.059908          0       0   \n",
       "3      0    0.000000    0.000000     54.96  0.000000          0       0   \n",
       "4     30   90.000000   13.333333    111.91  0.008850          0       0   \n",
       "\n",
       "   doorstep     favday city  \n",
       "0         0     Monday  DEL  \n",
       "1         1     Friday  DEL  \n",
       "2         0  Wednesday  DEL  \n",
       "3         0   Thursday  BOM  \n",
       "4         0     Monday  BOM  "
      ]
     },
     "execution_count": 2,
     "metadata": {},
     "output_type": "execute_result"
    }
   ],
   "source": [
    "data = pd.read_excel('storedata_total.xlsx')\n",
    "data.head()"
   ]
  },
  {
   "attachments": {
    "image.png": {
     "image/png": "[encoded data removed]"
    }
   },
   "cell_type": "markdown",
   "metadata": {},
   "source": [
    "![image.png](attachment:image.png)"
   ]
  },
  {
   "cell_type": "code",
   "execution_count": 3,
   "metadata": {
    "scrolled": false
   },
   "outputs": [
    {
     "name": "stdout",
     "output_type": "stream",
     "text": [
      "<class 'pandas.core.frame.DataFrame'>\n",
      "RangeIndex: 30801 entries, 0 to 30800\n",
      "Data columns (total 15 columns):\n",
      " #   Column      Non-Null Count  Dtype         \n",
      "---  ------      --------------  -----         \n",
      " 0   custid      30781 non-null  object        \n",
      " 1   retained    30801 non-null  int64         \n",
      " 2   created     30781 non-null  datetime64[ns]\n",
      " 3   firstorder  30781 non-null  object        \n",
      " 4   lastorder   30781 non-null  object        \n",
      " 5   esent       30801 non-null  int64         \n",
      " 6   eopenrate   30801 non-null  float64       \n",
      " 7   eclickrate  30801 non-null  float64       \n",
      " 8   avgorder    30801 non-null  float64       \n",
      " 9   ordfreq     30801 non-null  float64       \n",
      " 10  paperless   30801 non-null  int64         \n",
      " 11  refill      30801 non-null  int64         \n",
      " 12  doorstep    30801 non-null  int64         \n",
      " 13  favday      30801 non-null  object        \n",
      " 14  city        30801 non-null  object        \n",
      "dtypes: datetime64[ns](1), float64(4), int64(5), object(5)\n",
      "memory usage: 3.5+ MB\n"
     ]
    }
   ],
   "source": [
    "data.info()"
   ]
  },
  {
   "cell_type": "code",
   "execution_count": 4,
   "metadata": {
    "scrolled": true
   },
   "outputs": [
    {
     "data": {
      "text/html": [
       "<div>\n",
       "<style scoped>\n",
       "    .dataframe tbody tr th:only-of-type {\n",
       "        vertical-align: middle;\n",
       "    }\n",
       "\n",
       "    .dataframe tbody tr th {\n",
       "        vertical-align: top;\n",
       "    }\n",
       "\n",
       "    .dataframe thead th {\n",
       "        text-align: right;\n",
       "    }\n",
       "</style>\n",
       "<table border=\"1\" class=\"dataframe\">\n",
       "  <thead>\n",
       "    <tr style=\"text-align: right;\">\n",
       "      <th></th>\n",
       "      <th>retained</th>\n",
       "      <th>esent</th>\n",
       "      <th>eopenrate</th>\n",
       "      <th>eclickrate</th>\n",
       "      <th>avgorder</th>\n",
       "      <th>ordfreq</th>\n",
       "      <th>paperless</th>\n",
       "      <th>refill</th>\n",
       "      <th>doorstep</th>\n",
       "    </tr>\n",
       "  </thead>\n",
       "  <tbody>\n",
       "    <tr>\n",
       "      <th>count</th>\n",
       "      <td>30801.000000</td>\n",
       "      <td>30801.000000</td>\n",
       "      <td>30801.000000</td>\n",
       "      <td>30801.000000</td>\n",
       "      <td>30801.000000</td>\n",
       "      <td>30801.000000</td>\n",
       "      <td>30801.000000</td>\n",
       "      <td>30801.000000</td>\n",
       "      <td>30801.000000</td>\n",
       "    </tr>\n",
       "    <tr>\n",
       "      <th>mean</th>\n",
       "      <td>0.794520</td>\n",
       "      <td>28.138405</td>\n",
       "      <td>25.554838</td>\n",
       "      <td>5.671139</td>\n",
       "      <td>61.873944</td>\n",
       "      <td>0.037729</td>\n",
       "      <td>0.649037</td>\n",
       "      <td>0.095094</td>\n",
       "      <td>0.038895</td>\n",
       "    </tr>\n",
       "    <tr>\n",
       "      <th>std</th>\n",
       "      <td>0.404059</td>\n",
       "      <td>16.751380</td>\n",
       "      <td>29.557106</td>\n",
       "      <td>10.561704</td>\n",
       "      <td>41.007588</td>\n",
       "      <td>0.103932</td>\n",
       "      <td>0.477279</td>\n",
       "      <td>0.293350</td>\n",
       "      <td>0.193347</td>\n",
       "    </tr>\n",
       "    <tr>\n",
       "      <th>min</th>\n",
       "      <td>0.000000</td>\n",
       "      <td>0.000000</td>\n",
       "      <td>0.000000</td>\n",
       "      <td>0.000000</td>\n",
       "      <td>0.000000</td>\n",
       "      <td>0.000000</td>\n",
       "      <td>0.000000</td>\n",
       "      <td>0.000000</td>\n",
       "      <td>0.000000</td>\n",
       "    </tr>\n",
       "    <tr>\n",
       "      <th>25%</th>\n",
       "      <td>1.000000</td>\n",
       "      <td>16.000000</td>\n",
       "      <td>2.040816</td>\n",
       "      <td>0.000000</td>\n",
       "      <td>40.020000</td>\n",
       "      <td>0.000000</td>\n",
       "      <td>0.000000</td>\n",
       "      <td>0.000000</td>\n",
       "      <td>0.000000</td>\n",
       "    </tr>\n",
       "    <tr>\n",
       "      <th>50%</th>\n",
       "      <td>1.000000</td>\n",
       "      <td>32.000000</td>\n",
       "      <td>13.207547</td>\n",
       "      <td>0.000000</td>\n",
       "      <td>50.970000</td>\n",
       "      <td>0.000000</td>\n",
       "      <td>1.000000</td>\n",
       "      <td>0.000000</td>\n",
       "      <td>0.000000</td>\n",
       "    </tr>\n",
       "    <tr>\n",
       "      <th>75%</th>\n",
       "      <td>1.000000</td>\n",
       "      <td>42.000000</td>\n",
       "      <td>40.000000</td>\n",
       "      <td>7.142857</td>\n",
       "      <td>74.280000</td>\n",
       "      <td>0.040816</td>\n",
       "      <td>1.000000</td>\n",
       "      <td>0.000000</td>\n",
       "      <td>0.000000</td>\n",
       "    </tr>\n",
       "    <tr>\n",
       "      <th>max</th>\n",
       "      <td>1.000000</td>\n",
       "      <td>291.000000</td>\n",
       "      <td>100.000000</td>\n",
       "      <td>100.000000</td>\n",
       "      <td>2600.140000</td>\n",
       "      <td>3.250000</td>\n",
       "      <td>1.000000</td>\n",
       "      <td>1.000000</td>\n",
       "      <td>1.000000</td>\n",
       "    </tr>\n",
       "  </tbody>\n",
       "</table>\n",
       "</div>"
      ],
      "text/plain": [
       "           retained         esent     eopenrate    eclickrate      avgorder  \\\n",
       "count  30801.000000  30801.000000  30801.000000  30801.000000  30801.000000   \n",
       "mean       0.794520     28.138405     25.554838      5.671139     61.873944   \n",
       "std        0.404059     16.751380     29.557106     10.561704     41.007588   \n",
       "min        0.000000      0.000000      0.000000      0.000000      0.000000   \n",
       "25%        1.000000     16.000000      2.040816      0.000000     40.020000   \n",
       "50%        1.000000     32.000000     13.207547      0.000000     50.970000   \n",
       "75%        1.000000     42.000000     40.000000      7.142857     74.280000   \n",
       "max        1.000000    291.000000    100.000000    100.000000   2600.140000   \n",
       "\n",
       "            ordfreq     paperless        refill      doorstep  \n",
       "count  30801.000000  30801.000000  30801.000000  30801.000000  \n",
       "mean       0.037729      0.649037      0.095094      0.038895  \n",
       "std        0.103932      0.477279      0.293350      0.193347  \n",
       "min        0.000000      0.000000      0.000000      0.000000  \n",
       "25%        0.000000      0.000000      0.000000      0.000000  \n",
       "50%        0.000000      1.000000      0.000000      0.000000  \n",
       "75%        0.040816      1.000000      0.000000      0.000000  \n",
       "max        3.250000      1.000000      1.000000      1.000000  "
      ]
     },
     "execution_count": 4,
     "metadata": {},
     "output_type": "execute_result"
    }
   ],
   "source": [
    "data.describe()"
   ]
  },
  {
   "cell_type": "code",
   "execution_count": 5,
   "metadata": {},
   "outputs": [
    {
     "data": {
      "text/plain": [
       "custid        20\n",
       "retained       0\n",
       "created       20\n",
       "firstorder    20\n",
       "lastorder     20\n",
       "esent          0\n",
       "eopenrate      0\n",
       "eclickrate     0\n",
       "avgorder       0\n",
       "ordfreq        0\n",
       "paperless      0\n",
       "refill         0\n",
       "doorstep       0\n",
       "favday         0\n",
       "city           0\n",
       "dtype: int64"
      ]
     },
     "execution_count": 5,
     "metadata": {},
     "output_type": "execute_result"
    }
   ],
   "source": [
    "data.isnull().sum()"
   ]
  },
  {
   "cell_type": "code",
   "execution_count": 6,
   "metadata": {
    "scrolled": false
   },
   "outputs": [
    {
     "data": {
      "image/png": "[encoded data removed]",
      "text/plain": [
       "<Figure size 1080x720 with 2 Axes>"
      ]
     },
     "metadata": {
      "needs_background": "light"
     },
     "output_type": "display_data"
    }
   ],
   "source": [
    "plt.figure(figsize=(15,10))\n",
    "sns.heatmap(data.isnull(),cmap='PuBuGn',yticklabels=False);"
   ]
  },
  {
   "cell_type": "code",
   "execution_count": 7,
   "metadata": {},
   "outputs": [],
   "source": [
    "data.dropna(inplace=True)## Dropping the null values"
   ]
  },
  {
   "cell_type": "code",
   "execution_count": 8,
   "metadata": {},
   "outputs": [],
   "source": [
    "data.reset_index(inplace=True)"
   ]
  },
  {
   "cell_type": "code",
   "execution_count": 9,
   "metadata": {
    "scrolled": false
   },
   "outputs": [
    {
     "data": {
      "text/plain": [
       "index         0\n",
       "custid        0\n",
       "retained      0\n",
       "created       0\n",
       "firstorder    0\n",
       "lastorder     0\n",
       "esent         0\n",
       "eopenrate     0\n",
       "eclickrate    0\n",
       "avgorder      0\n",
       "ordfreq       0\n",
       "paperless     0\n",
       "refill        0\n",
       "doorstep      0\n",
       "favday        0\n",
       "city          0\n",
       "dtype: int64"
      ]
     },
     "execution_count": 9,
     "metadata": {},
     "output_type": "execute_result"
    }
   ],
   "source": [
    "data.isnull().sum()"
   ]
  },
  {
   "cell_type": "code",
   "execution_count": 10,
   "metadata": {
    "scrolled": true
   },
   "outputs": [],
   "source": [
    "first_ord = []\n",
    "for i in range(0,len(data)):\n",
    "    if i in data[(data.firstorder == '1/0/00')].index:\n",
    "        first_ord.append(data.created[i])\n",
    "    else:\n",
    "        first_ord.append(data.firstorder[i])\n",
    "data['firstorder'] = first_ord"
   ]
  },
  {
   "cell_type": "code",
   "execution_count": 11,
   "metadata": {
    "scrolled": false
   },
   "outputs": [],
   "source": [
    "last_ord = []\n",
    "for i in range(0,len(data)):\n",
    "    if i in data[data.lastorder == '1/0/00'].index:\n",
    "        last_ord.append(data.firstorder[i])\n",
    "    else:\n",
    "        last_ord.append(data.lastorder[i])\n",
    "data['lastorder'] = last_ord"
   ]
  },
  {
   "cell_type": "code",
   "execution_count": 12,
   "metadata": {},
   "outputs": [],
   "source": [
    "data.to_excel('Store_Data_after_EDA.xlsx')"
   ]
  }
 ],
 "metadata": {
  "kernelspec": {
   "display_name": "Python 3",
   "language": "python",
   "name": "python3"
  },
  "language_info": {
   "codemirror_mode": {
    "name": "ipython",
    "version": 3
   },
   "file_extension": ".py",
   "mimetype": "text/x-python",
   "name": "python",
   "nbconvert_exporter": "python",
   "pygments_lexer": "ipython3",
   "version": "3.7.6"
  }
 },
 "nbformat": 4,
 "nbformat_minor": 4
}
